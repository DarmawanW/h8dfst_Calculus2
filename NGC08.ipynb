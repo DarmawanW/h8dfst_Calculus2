{
 "cells": [
  {
   "cell_type": "markdown",
   "source": [
    "Kami akan melakukan integral untuk fungsi\r\n",
    "$$\\int 3x^2 + 6x + 3\\;dx$$ \r\n",
    "Sebelum melakukan perhitungan pada python, kami akan melakukan perhitungan secara manual terlebih dahulu\r\n",
    "\r\n",
    "Dari fungsi diatas kami membagi koefisien dengan pangkat + 1 dan meningkatkan pangkat dengan 1\r\n",
    "$$\\int \\frac{3}{3}x^{2+1} + \\frac{6}{2}x^{1+1} + 3x\\;$$ \r\n",
    "Kemudian kita hitung sehingga integral untuk fungsi diatas dapat ditulis menjadi\r\n",
    "$$\\int x^3 + 3x^2 + 3x\\;$$ \r\n"
   ],
   "metadata": {}
  },
  {
   "cell_type": "code",
   "execution_count": 6,
   "source": [
    "#Berikut ini adalah perhitungan integral untuk fungsi 1 diatas yang dilakukan pada python\r\n",
    "import sympy as sy\r\n",
    "import numpy as np\r\n",
    "from scipy import integrate\r\n",
    "x=sy.Symbol(\"x\",real=True)\r\n",
    "f1 = 3*x**2+6*x+3\r\n",
    "sy.integrate(f1,x)\r\n"
   ],
   "outputs": [
    {
     "output_type": "execute_result",
     "data": {
      "text/plain": [
       "x**3 + 3*x**2 + 3*x"
      ],
      "text/latex": [
       "$\\displaystyle x^{3} + 3 x^{2} + 3 x$"
      ]
     },
     "metadata": {},
     "execution_count": 6
    }
   ],
   "metadata": {}
  },
  {
   "cell_type": "markdown",
   "source": [
    "Dari hasil perhitungan diatas, baik secara python maupun secara manual, menghasilkan integral yang sama"
   ],
   "metadata": {}
  },
  {
   "cell_type": "markdown",
   "source": [
    "Selanjutnya kami akan melakukan integral untuk fungsi\r\n",
    "$$\\int 8x^3 - x^2 + 5x - 1\\;dx$$ \r\n",
    "Sebelum melakukan perhitungan pada python, kami akan melakukan perhitungan secara manual terlebih dahulu\r\n",
    "\r\n",
    "Dari fungsi diatas kami membagi koefisien dengan pangkat + 1 dan meningkatkan pangkat dengan 1\r\n",
    "$$\\int \\frac{8}{4}x^{3+1} - \\frac{1}{3}x^{2+1} + \\frac{5}{2}x^{1+1} - 1x\\;$$ \r\n",
    "Kemudian kita hitung sehingga integral untuk fungsi diatas dapat ditulis menjadi\r\n",
    "$$\\int 2x^4 + \\frac{x^3}{3} + \\frac{5x^2}{2} - 1x\\;$$ "
   ],
   "metadata": {}
  },
  {
   "cell_type": "code",
   "execution_count": 7,
   "source": [
    "#Berikut ini adalah perhitungan integral untuk fungsi 2 diatas yang dilakukan pada python\r\n",
    "f2 = 8*x**3-x**2+5*x-1\r\n",
    "sy.integrate(f2,x)"
   ],
   "outputs": [
    {
     "output_type": "execute_result",
     "data": {
      "text/plain": [
       "2*x**4 - x**3/3 + 5*x**2/2 - x"
      ],
      "text/latex": [
       "$\\displaystyle 2 x^{4} - \\frac{x^{3}}{3} + \\frac{5 x^{2}}{2} - x$"
      ]
     },
     "metadata": {},
     "execution_count": 7
    }
   ],
   "metadata": {}
  },
  {
   "cell_type": "markdown",
   "source": [
    "Dari hasil perhitungan diatas, baik secara python maupun secara manual, menghasilkan integral yang sama"
   ],
   "metadata": {}
  }
 ],
 "metadata": {
  "orig_nbformat": 4,
  "language_info": {
   "name": "python",
   "version": "3.8.8",
   "mimetype": "text/x-python",
   "codemirror_mode": {
    "name": "ipython",
    "version": 3
   },
   "pygments_lexer": "ipython3",
   "nbconvert_exporter": "python",
   "file_extension": ".py"
  },
  "kernelspec": {
   "name": "python3",
   "display_name": "Python 3.8.8 64-bit ('base': conda)"
  },
  "interpreter": {
   "hash": "6f5a3333282cc3cade2967a8d6ad94d5be3d1b19105904835c796cab9a1eb63b"
  }
 },
 "nbformat": 4,
 "nbformat_minor": 2
}